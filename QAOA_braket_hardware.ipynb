{
 "cells": [
  {
   "cell_type": "code",
   "execution_count": 1,
   "metadata": {},
   "outputs": [],
   "source": [
    "# Use Braket SDK Cost Tracking to estimate the cost to run this example\n",
    "from braket.tracking import Tracker\n",
    "t = Tracker().start()"
   ]
  },
  {
   "cell_type": "markdown",
   "metadata": {},
   "source": [
    "## IMPORTS and SETUP"
   ]
  },
  {
   "cell_type": "code",
   "execution_count": 2,
   "metadata": {},
   "outputs": [],
   "source": [
    "# general imports\n",
    "import numpy as np\n",
    "from scipy.optimize import minimize\n",
    "import matplotlib.pyplot as plt\n",
    "import networkx as nx\n",
    "# import seaborn as sns\n",
    "import time\n",
    "from datetime import datetime\n",
    "import pickle\n",
    "import random\n",
    "from braket.aws import AwsDevice\n",
    "# magic line for producing visualizations in notebook\n",
    "%matplotlib inline"
   ]
  },
  {
   "cell_type": "code",
   "execution_count": 3,
   "metadata": {},
   "outputs": [],
   "source": [
    "# fix random seed for reproducibility\n",
    "seed = 42\n",
    "np.random.seed(seed)\n",
    "random.seed(a=seed)\n",
    "\n",
    "# switch to trigger writing training results to disk\n",
    "store_results = False\n",
    "# switch to trigger printing results of each optimization cycle\n",
    "verbose = True"
   ]
  },
  {
   "cell_type": "code",
   "execution_count": 4,
   "metadata": {},
   "outputs": [],
   "source": [
    "# AWS imports: Import Braket SDK modules\n",
    "from braket.circuits import FreeParameter\n",
    "from braket.devices import LocalSimulator, Devices"
   ]
  },
  {
   "cell_type": "code",
   "execution_count": 5,
   "metadata": {},
   "outputs": [],
   "source": [
    "from utils_classical import *"
   ]
  },
  {
   "cell_type": "code",
   "execution_count": 6,
   "metadata": {},
   "outputs": [],
   "source": [
    "# Set up device: Local Simulator\n",
    "# device = LocalSimulator()"
   ]
  },
  {
   "cell_type": "markdown",
   "metadata": {},
   "source": [
    "## In this notebook I will run the problem on real hardware."
   ]
  },
  {
   "cell_type": "code",
   "execution_count": 7,
   "metadata": {},
   "outputs": [],
   "source": [
    "## example code for other backends\n",
    "# from braket.aws import AwsDevice\n",
    "# from braket.devices import Devices\n",
    "## choose the on-demand simulator to run your circuit\n",
    "# device = AwsDevice(Devices.Amazon.SV1)\n",
    "## choose the Rigetti device to run your circuit\n",
    "# device = AwsDevice(Devices.Rigetti.Ankaa2)\n",
    "## choose the Ionq device to run your circuit\n",
    "device = AwsDevice(Devices.IonQ.Aria1)\n",
    "## choose the IQM device to run your circuit\n",
    "# device = AwsDevice(Devices.IQM.Garnet)"
   ]
  },
  {
   "cell_type": "markdown",
   "metadata": {},
   "source": [
    "## PROBLEM SETUP"
   ]
  },
  {
   "cell_type": "markdown",
   "metadata": {},
   "source": [
    "We consider a graph coloring problem.\n",
    "Given a graph $G=(V,E)$, made of a set vertices (also called nodes) $V$ and edges $E$, our goal is to color each node red or blue, then score a point for each node that is next to a node of different color. \n",
    "We strive to find the optimal coloring that scores the largest number of points.\n",
    "To this end, we will address the dual problem of finding the minimum energy of the corresponding Ising Hamiltonian. \n",
    "To get started, we first use the open-source ```networkx``` library to visualize the problem graph. \n",
    "Feel free to play with the parameters $n$ (for the number of nodes) and $m$ (for the number of edges) below to consider other graphs of your choice. "
   ]
  },
  {
   "cell_type": "code",
   "execution_count": null,
   "metadata": {},
   "outputs": [],
   "source": [
    "# # setup Erdos Renyi graph\n",
    "# n = 10  # number of nodes/vertices\n",
    "# m = 20  # number of edges\n",
    "\n",
    "# # define graph object\n",
    "# G = nx.gnm_random_graph(n, m, seed=seed)\n",
    "# # G = nx.erdos_renyi_graph(n=n, p=0.6, seed=seed)\n",
    "# # positions for all nodes\n",
    "# pos = nx.spring_layout(G)\n",
    "\n",
    "# # choose random weights\n",
    "# for (u, v) in G.edges():\n",
    "#     G.edges[u,v]['weight'] = np.round(random.uniform(0, 1),4)\n",
    "\n",
    "# # draw graph\n",
    "# nx.draw(G, pos, with_labels = True, font_weight = 'bold')\n",
    "# labels = nx.get_edge_attributes(G, 'weight')\n",
    "# nx.draw_networkx_edge_labels(G, pos, edge_labels = labels)\n",
    "# plt.show()\n",
    "\n",
    "edges = [(0,1,1),(2,3,1),(3,0,1), (2,0,1), (0,3,1)]\n",
    "nodes = []\n",
    "for edge in edges:\n",
    "    start_node = edge[0]\n",
    "    end_node = edge[1]\n",
    "    if (start_node not in nodes):\n",
    "        nodes.append(start_node)\n",
    "    if (end_node not in nodes):\n",
    "        nodes.append(end_node)\n",
    "num_nodes = len(nodes)\n",
    "G = nx.Graph() \n",
    "G.add_nodes_from(nodes)\n",
    "G.add_weighted_edges_from(edges)\n",
    "\n",
    "pos = nx.spring_layout(G)\n",
    "nx.draw(G, pos, with_labels = True, font_weight = 'bold')\n",
    "labels = nx.get_edge_attributes(G, 'weight')\n",
    "nx.draw_networkx_edge_labels(G, pos, edge_labels = labels)"
   ]
  },
  {
   "cell_type": "code",
   "execution_count": 9,
   "metadata": {},
   "outputs": [],
   "source": [
    "# set Ising matrix \n",
    "Jfull = nx.to_numpy_array(G)\n",
    "\n",
    "# get off-diagonal upper triangular matrix\n",
    "J = np.triu(Jfull, k=1).astype(np.float64)"
   ]
  },
  {
   "cell_type": "code",
   "execution_count": 10,
   "metadata": {},
   "outputs": [],
   "source": [
    "# plot Ising matrix\n",
    "# plt.figure(1, figsize=[7, 5])\n",
    "# sns.heatmap(J, annot=True,  linewidths=.5, cmap=\"YlGnBu\", annot_kws = {'alpha': 1})\n",
    "# plt.title('Ising distance matrix');\n",
    "# plt.tight_layout();"
   ]
  },
  {
   "cell_type": "markdown",
   "metadata": {},
   "source": [
    "## IMPLEMENTATION OF QAOA WITH BRAKET "
   ]
  },
  {
   "cell_type": "markdown",
   "metadata": {},
   "source": [
    "In this section we load a set of useful helper functions that we will explain in detail below. \n",
    "Specifically in ```utils_qaoa.py``` we provide simple building blocks for the core modules of our QAOA algorithm, that is (i) a function called ```circuit``` that defines the parametrized ansatz, (ii) a function called ```objective_function``` that takes a list of variational parameters as input, and returns the cost associated with those parameters and finally (iii) a function ```train``` to run the entire QAOA algorithm for given ansatz. \n",
    "This way we can solve the problem in a clean and modular approach.\n",
    "Here, we show in markdown the definition of the parametrized QAOA circuit. \n",
    "For more details, see the corresponding file ```utils_qaoa.py```. "
   ]
  },
  {
   "cell_type": "code",
   "execution_count": 11,
   "metadata": {},
   "outputs": [],
   "source": [
    "from utils_qaoa import *"
   ]
  },
  {
   "cell_type": "markdown",
   "metadata": {},
   "source": [
    "```python\n",
    "# function to implement evolution with driver Hamiltonian\n",
    "def driver(beta, n_qubits):\n",
    "    \"\"\"\n",
    "    Returns circuit for driver Hamiltonian U(Hb, beta)\n",
    "    \"\"\"\n",
    "    # instantiate circuit object\n",
    "    circ = Circuit()\n",
    "    \n",
    "    for qubit in range(n_qubits):\n",
    "        gate = Circuit().rx(qubit, 2*beta)\n",
    "        circ.add(gate)\n",
    "    \n",
    "    return circ\n",
    "\n",
    "\n",
    "# helper function for evolution with cost Hamiltonian\n",
    "def cost_circuit(gamma, n_qubits, ising):\n",
    "    \"\"\"\n",
    "    returns circuit for evolution with cost Hamiltonian\n",
    "    \"\"\"\n",
    "    # instantiate circuit object\n",
    "    circ = Circuit()\n",
    "\n",
    "    # get all non-zero entries (edges) from Ising matrix \n",
    "    idx = ising.nonzero()\n",
    "    edges = list(zip(idx[0], idx[1]))\n",
    "    \n",
    "    for qubit_pair in edges:\n",
    "        # get interaction strength\n",
    "        int_strength = ising[qubit_pair[0], qubit_pair[1]]\n",
    "        # for Rigetti we decompose ZZ using CNOT gates\n",
    "        if 'Aspen' in device.name:\n",
    "            gate = ZZgate(qubit_pair[0], qubit_pair[1], gamma*int_strength)\n",
    "            circ.add(gate)\n",
    "        # classical simulators and IonQ support ZZ gate\n",
    "        else:\n",
    "            gate = Circuit().zz(qubit_pair[0], qubit_pair[1], angle=2*gamma*int_strength)\n",
    "            circ.add(gate)\n",
    "\n",
    "    return circ\n",
    "\n",
    "\n",
    "# function to build the QAOA circuit with depth p\n",
    "def circuit(params, n_qubits, ising):\n",
    "    \"\"\"\n",
    "    function to return full QAOA circuit\n",
    "    \"\"\"\n",
    "\n",
    "    # initialize qaoa circuit with first Hadamard layer: for minimization start in |->\n",
    "    circ = Circuit()\n",
    "    X_on_all = Circuit().x(range(0, n_qubits))\n",
    "    circ.add(X_on_all)\n",
    "    H_on_all = Circuit().h(range(0, n_qubits))\n",
    "    circ.add(H_on_all)\n",
    "\n",
    "    # setup two parameter families\n",
    "    circuit_length = int(len(params) / 2)\n",
    "    gammas = params[:circuit_length]\n",
    "    betas = params[circuit_length:]\n",
    "\n",
    "    # add circuit layers\n",
    "    for mm in range(circuit_length):\n",
    "        circ.add(cost_circuit(gammas[mm], n_qubits, ising))\n",
    "        circ.add(driver(betas[mm], n_qubits))\n",
    "\n",
    "    return circ\n",
    "\n",
    "```"
   ]
  },
  {
   "cell_type": "markdown",
   "metadata": {},
   "source": [
    "## VISUALIZATION OF THE QAOA ANSATZ"
   ]
  },
  {
   "cell_type": "markdown",
   "metadata": {},
   "source": [
    "Let us first visualize our parametrized QAOA ansatz for a small number of qubits and fixed (i.e., not optimized) parameters. \n",
    "For convenience, the parameters are displayed in the circuit (up to a factor of $2$ we have added in our ansatz definition). \n",
    "First we prepare the state $|0,0,\\dots\\rangle \\rightarrow |-,-,\\dots\\rangle$, with the superposition state $|-\\rangle = (|0\\rangle -|1\\rangle  )/\\sqrt{2}$. \n",
    "Following the discussion above, we choose to start out with this state as it is the minimal energy state of the simple driver Hamiltonian $H_{B}$. \n",
    "This state preparation is followed by one layer of the QAOA ansatz, consisting of evolution with the cost Hamiltonian by $\\exp(-i\\gamma H_{C})= \\prod_{j,l}\\exp(-i\\gamma J_{j,l}\\sigma_{j}^{z}\\sigma_{l}^{z}) = \\prod_{j,l} ZZ_{j,l}(2\\gamma J_{j,l})$, followed by the single-qubit driving term, $\\exp(-i\\beta H_{B})= \\prod_{j} \\exp(-i\\beta \\sigma_{j}^{x})= \\prod_{j} R_{j}^{(x)}(2\\beta)$.\n",
    "Note that the circuit definition depends on the ```device``` object, as the implementation of the ZZ gate depends on the specific gate set supported by the device.  "
   ]
  },
  {
   "cell_type": "code",
   "execution_count": null,
   "metadata": {},
   "outputs": [],
   "source": [
    "# create parameters\n",
    "gammas = [FreeParameter('gamma')]\n",
    "betas = [FreeParameter('beta')]\n",
    "params = gammas + betas\n",
    "\n",
    "# for demonstration purposes use small Ising matrix\n",
    "J_sub = np.array([[0, 1], [0, 0]])\n",
    "N = J_sub.shape[0]\n",
    "\n",
    "# get circuit ansatz\n",
    "my_simple_circuit = circuit(params, device, N, J_sub)\n",
    "\n",
    "# print test ansatz circuit\n",
    "print('Printing test circuit:')\n",
    "print(my_simple_circuit)"
   ]
  },
  {
   "cell_type": "markdown",
   "metadata": {},
   "source": [
    "We see that our ansatz produces the expected result for shallow QAOA with $p=1$. \n",
    "We run one more sanity check for $p=2$ below. "
   ]
  },
  {
   "cell_type": "code",
   "execution_count": null,
   "metadata": {},
   "outputs": [],
   "source": [
    "# set number of qubits and fix parameters\n",
    "gammas = [FreeParameter('gamma_1'), FreeParameter('gamma_2')]\n",
    "betas = [FreeParameter('beta_1'), FreeParameter('beta_2')]\n",
    "params = gammas + betas\n",
    "\n",
    "# for demonstration purposes use small Ising matrix\n",
    "J_sub = np.array([[0, 1], [0, 0]])\n",
    "N = J_sub.shape[0]\n",
    "\n",
    "# get circuit ansatz\n",
    "my_simple_circuit = circuit(params, device, N, J_sub)\n",
    "\n",
    "# print test ansatz circuit\n",
    "print('Printing test circuit:')\n",
    "print(my_simple_circuit)"
   ]
  },
  {
   "cell_type": "markdown",
   "metadata": {},
   "source": [
    "## QAOA SIMULATION ON LOCAL SCHROEDINGER SIMULATOR"
   ]
  },
  {
   "cell_type": "markdown",
   "metadata": {},
   "source": [
    "We are now all set to run some QAOA simulation experiments. \n",
    "First of all, you can play and experiment yourself with the number of qubits $N$. \n",
    "Secondly, you may also experiment with the classical optimizer. \n",
    "Since we are using an off-the-shelf, black-box ```scipy``` minimizer (as described in more detail [here](https://docs.scipy.org/doc/scipy/reference/generated/scipy.optimize.minimize.html)), you can simply swap between different optimizers by setting the ```OPT_METHOD``` parameter below. \n",
    "Some popular options readily available within this library include *Nelder-Mead*, *BFGS* and *COBYLA*. \n",
    "As a precautionary warning, note that the classical optimization step may get stuck in a local optimum, rather than finding the global minimum for our parametrized QAOA ansatz wavefunction. \n",
    "To address this issue, we may run several optimization loops, starting from different random parameter seeds. \n",
    "While this brute-force approach does not provide any guarantee to find the global optimum, from a pragmatic point of view at least it does increase the odds of finding an acceptable solution, at the expense of potentially having to run many more circuits on the simulator or QPU, respectively.\n",
    "Finally, the optimization loop may require the execution of many individual quantum tasks (i.e., single circuit executions for fixed parameters). \n",
    "For example, when choosing the classical [Powell](https://docs.scipy.org/doc/scipy/reference/optimize.minimize-powell.html#optimize-minimize-powell) optimizer for the graph considered here, we find $\\sim 270$ cycles in the for loop. \n",
    "For the local simulator device chosen here by default this is not an issue, but if you run this algorithm on any QPU you may want to adjust the ```maxfev``` parameter to control the maximum allowed number function evaluations (compare comment in the next code block below)."
   ]
  },
  {
   "cell_type": "code",
   "execution_count": 14,
   "metadata": {},
   "outputs": [],
   "source": [
    "##################################################################################\n",
    "# set up hyperparameters\n",
    "##################################################################################\n",
    "\n",
    "# User-defined hypers\n",
    "DEPTH = 12  # circuit depth for QAOA\n",
    "SHOTS = 100  # number measurements to make on circuit\n",
    "OPT_METHOD = 'COBYLA'  # SLSQP, COBYLA, Nelder-Mead, BFGS, Powell, ...\n",
    "\n",
    "# set up the problem\n",
    "n_qubits = J.shape[0]\n",
    "\n",
    "# initialize reference solution (simple guess)\n",
    "bitstring_init = -1 * np.ones([n_qubits])\n",
    "energy_init = np.dot(bitstring_init, np.dot(J, bitstring_init))\n",
    "\n",
    "# set tracker to keep track of results\n",
    "tracker = {\n",
    "    'count': 1,                           # Elapsed optimization steps\n",
    "    'optimal_energy': energy_init,        # Global optimal energy\n",
    "    'opt_energies': [],                   # Optimal energy at each step\n",
    "    'global_energies': [],                # Global optimal energy at each step\n",
    "    'optimal_bitstring': bitstring_init,  # Global optimal bitstring\n",
    "    'opt_bitstrings': [],                 # Optimal bitstring at each step\n",
    "    'costs': [],                          # Cost (average energy) at each step\n",
    "    'res': None,                          # Quantum result object\n",
    "    'params': [],                         # Track parameters\n",
    "    'ratio': [],                          # The benchmarking metric\n",
    "    'ratio_min': [],                      # Best possible solution during measurement\n",
    "    'ratio_shot': [],                     # The ratio for the optimal solution over all measurements\n",
    "    'prob': []                            # Record prob of measurement\n",
    "}\n",
    "\n",
    "# set options for classical optimization\n",
    "options = {'disp': True, 'maxiter': 10}"
   ]
  },
  {
   "cell_type": "code",
   "execution_count": null,
   "metadata": {
    "scrolled": true
   },
   "outputs": [],
   "source": [
    "##################################################################################\n",
    "# run QAOA optimization on graph \n",
    "##################################################################################\n",
    "\n",
    "print('Circuit depth hyperparameter:', DEPTH)\n",
    "print('Problem size:', n_qubits)\n",
    "\n",
    "# kick off training\n",
    "start = time.time()\n",
    "result_energy, result_angle, tracker = train(\n",
    "    device = device, options=options, p=DEPTH, ising=J, n_qubits=n_qubits, n_shots=SHOTS, \n",
    "    opt_method=OPT_METHOD, tracker=tracker, verbose=verbose, G=G)\n",
    "end = time.time()\n",
    "\n",
    "# print execution time\n",
    "print('Code execution time [sec]:', end - start)\n",
    "\n",
    "# print optimized results\n",
    "print('Optimal energy:', tracker['optimal_energy'])\n",
    "print('Optimal classical bitstring:', tracker['optimal_bitstring'])\n",
    "\n",
    "##################################################################################\n",
    "# Compute output and dump to pickle\n",
    "##################################################################################\n",
    "\n",
    "if store_results:\n",
    "    out = {'p': DEPTH, 'N': n_qubits,\n",
    "           'ENERGY_OPTIMAL': tracker['optimal_energy'], 'BITSTRING': tracker['optimal_bitstring'],\n",
    "           'result_energy': result_energy, 'result_angle': result_angle}\n",
    "\n",
    "    # store results: dump output to pickle with timestamp in filename\n",
    "    time_now = datetime.strftime(datetime.now(), '%Y%m%d%H%M%S')\n",
    "    results_file = 'results-'+time_now+'.pkl'\n",
    "    print(f'Writing results to file: {results_file}')\n",
    "    pickle.dump(out, open(results_file, \"wb\"))\n",
    "    \n",
    "    # you can load results as follows\n",
    "    # out = pickle.load(open(results_file, \"rb\"))"
   ]
  },
  {
   "cell_type": "code",
   "execution_count": null,
   "metadata": {},
   "outputs": [],
   "source": []
  },
  {
   "cell_type": "code",
   "execution_count": null,
   "metadata": {},
   "outputs": [],
   "source": []
  },
  {
   "cell_type": "code",
   "execution_count": null,
   "metadata": {},
   "outputs": [],
   "source": []
  },
  {
   "cell_type": "markdown",
   "metadata": {},
   "source": [
    "## POSTPROCESSING AND COMPARISON OF OUR QAOA RESULTS WITH CLASSICAL RESULTS"
   ]
  },
  {
   "cell_type": "markdown",
   "metadata": {},
   "source": [
    "without error_mitigation"
   ]
  },
  {
   "cell_type": "code",
   "execution_count": null,
   "metadata": {},
   "outputs": [],
   "source": [
    "import pandas as pd\n",
    "\n",
    "debias_off = pd.DataFrame.from_dict(tracker['prob'], orient=\"index\").rename(columns={0: \"debias off\"})"
   ]
  },
  {
   "cell_type": "code",
   "execution_count": null,
   "metadata": {},
   "outputs": [],
   "source": [
    "# visualize the optimization process\n",
    "cycles = np.arange(1, tracker['count'])"
   ]
  },
  {
   "cell_type": "code",
   "execution_count": null,
   "metadata": {},
   "outputs": [],
   "source": [
    "# # get results for variational angles\n",
    "# gamma = result_angle[:DEPTH]\n",
    "# beta = result_angle[DEPTH:]\n",
    "# # get array [1, 2, ..., p]\n",
    "# pa = np.arange(1, DEPTH + 1)\n",
    "\n",
    "# plt.figure(2)\n",
    "# plt.plot(pa, gamma / np.pi, '-o', label='gamma')\n",
    "# plt.plot(pa, beta / np.pi, '-s', label='beta')\n",
    "# plt.xlabel('circuit depth (layer) p')\n",
    "# plt.ylabel('optimal angles [pi]')\n",
    "# plt.xticks(pa)\n",
    "# plt.legend(title='Variational QAOA angles:', loc='upper left')\n",
    "# plt.show()"
   ]
  },
  {
   "cell_type": "code",
   "execution_count": null,
   "metadata": {
    "scrolled": true
   },
   "outputs": [],
   "source": [
    "# visualize solution\n",
    "colorlist = tracker['optimal_bitstring']\n",
    "print('Optimal cut found with QAOA:', tracker['optimal_bitstring'])\n",
    "colorlist[colorlist == -1] = 0\n",
    "# plot_colored_graph(J, N, colorlist, pos)\n",
    "plot_colored_graph_simple(G, colorlist, pos)\n",
    "print('Minimal energy found with QAOA:', tracker['optimal_energy'])"
   ]
  },
  {
   "cell_type": "code",
   "execution_count": null,
   "metadata": {},
   "outputs": [],
   "source": [
    "plt.xlabel('optimization cycle')\n",
    "plt.ylabel('best minimum energy at each step')\n",
    "plt.plot(cycles, tracker['ratio'], label='expected')\n",
    "plt.plot(cycles, tracker['ratio_min'], label='optimal')\n",
    "plt.legend()\n",
    "plt.show()"
   ]
  },
  {
   "cell_type": "code",
   "execution_count": null,
   "metadata": {},
   "outputs": [],
   "source": [
    "plt.xlabel('optimization cycle')\n",
    "plt.ylabel('percentage for the optimal solution')\n",
    "plt.plot(cycles, tracker['ratio_shot'])\n",
    "plt.show()"
   ]
  },
  {
   "cell_type": "markdown",
   "metadata": {},
   "source": [
    "with error mitigation"
   ]
  },
  {
   "cell_type": "code",
   "execution_count": null,
   "metadata": {},
   "outputs": [],
   "source": [
    "start = time.time()\n",
    "result_energy, result_angle, tracker_em = train(\n",
    "    device = device, options=options, p=DEPTH, ising=J, n_qubits=n_qubits, n_shots=SHOTS, \n",
    "    opt_method=OPT_METHOD, tracker=tracker, verbose=verbose, G=G, error_mitigation=True)\n",
    "\n",
    "end = time.time()\n",
    "\n",
    "# print execution time\n",
    "print('Code execution time [sec]:', end - start)\n",
    "\n",
    "# print optimized results\n",
    "print('Optimal energy:', tracker['optimal_energy'])\n",
    "print('Optimal classical bitstring:', tracker['optimal_bitstring'])"
   ]
  },
  {
   "cell_type": "code",
   "execution_count": null,
   "metadata": {},
   "outputs": [],
   "source": [
    "sharpen_on = pd.DataFrame.from_dict(tracker_em['prob'], orient=\"index\").rename(\n",
    "    columns={0: \"debias on, sharpened\"}\n",
    ")\n",
    "df = debias_off.join(sharpen_on)\n",
    "df2 = df.sort_values(by=\"debias off\").tail(10)\n",
    "df2"
   ]
  },
  {
   "cell_type": "code",
   "execution_count": null,
   "metadata": {},
   "outputs": [],
   "source": [
    "# visualize solution\n",
    "colorlist = tracker['optimal_bitstring']\n",
    "print('Optimal cut found with QAOA:', tracker_em['optimal_bitstring'])\n",
    "colorlist[colorlist == -1] = 0\n",
    "# plot_colored_graph(J, N, colorlist, pos)\n",
    "plot_colored_graph_simple(G, colorlist, pos)\n",
    "print('Minimal energy found with QAOA:', tracker_em['optimal_energy'])"
   ]
  },
  {
   "cell_type": "code",
   "execution_count": null,
   "metadata": {},
   "outputs": [],
   "source": [
    "plt.xlabel('optimization cycle')\n",
    "plt.ylabel('best minimum energy at each step')\n",
    "plt.plot(cycles, tracker_em['ratio'], label='expected')\n",
    "plt.plot(cycles, tracker_em['ratio_min'], label='optimal')\n",
    "plt.legend()\n",
    "plt.show()"
   ]
  },
  {
   "cell_type": "code",
   "execution_count": null,
   "metadata": {},
   "outputs": [],
   "source": [
    "plt.xlabel('optimization cycle')\n",
    "plt.ylabel('percentage for the optimal solution')\n",
    "plt.plot(cycles, tracker_em['ratio_shot'])\n",
    "plt.show()"
   ]
  }
 ],
 "metadata": {
  "kernelspec": {
   "display_name": "Python 3 [Braket v1.86]",
   "language": "python",
   "name": "python3_amazon_3kbp0j"
  },
  "language_info": {
   "codemirror_mode": {
    "name": "ipython",
    "version": 3
   },
   "file_extension": ".py",
   "mimetype": "text/x-python",
   "name": "python",
   "nbconvert_exporter": "python",
   "pygments_lexer": "ipython3",
   "version": "3.11.9"
  },
  "vscode": {
   "interpreter": {
    "hash": "590fab68195cf107911461461f81d5c472d3d6127f579badfcfad30f03e5cab2"
   }
  }
 },
 "nbformat": 4,
 "nbformat_minor": 4
}
