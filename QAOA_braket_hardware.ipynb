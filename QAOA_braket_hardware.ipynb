{
 "cells": [
  {
   "cell_type": "code",
   "execution_count": 1,
   "metadata": {},
   "outputs": [],
   "source": [
    "# Use Braket SDK Cost Tracking to estimate the cost to run this example\n",
    "from braket.tracking import Tracker\n",
    "t = Tracker().start()"
   ]
  },
  {
   "cell_type": "markdown",
   "metadata": {},
   "source": [
    "## BACKGROUND: QUADRATIC BINARY OPTIMIZATION PROBLEMS"
   ]
  },
  {
   "cell_type": "markdown",
   "metadata": {},
   "source": [
    "__Combinatorial optimization__: \n",
    "Combinatorial optimization problems are ubiquitous across many areas of science and application areas. \n",
    "Applications can be found (for example) in logistics, scheduling, planning, and portfolio optimization.\n",
    "In a nutshell combinatorial optimization problems are problems involving a large number of yes/no decisions with each set of decisions yielding a corresponding objective function value, like a cost or profit value. \n",
    "Because of the combinatorial explosion of the solution space with the number of variables, finding good solutions is a daunting task and extremely difficult.  \n",
    "\n",
    "__QUBO problems__: The QUBO ([Quadratic Unconstrained Binary Optimization](https://en.wikipedia.org/wiki/Quadratic_unconstrained_binary_optimization)) model unifies a rich variety of NP-hard combinatorial optimization problems: \n",
    "Famous examples include Quadratic Assignment Problems, Capital Budgeting Problems, Task Allocation Problems and Maximum-Cut Problems. \n",
    "For more details we refer to the excellent review and tutorial on QUBO problems presented in Ref.[5].\n",
    "\n",
    "__Maximum Cut__: Among the class of QUBO problems, Maximum Cut (MaxCut) is paradigm combinatorial optimization problem. \n",
    "Given a graph $G=(V,E)$ with vertex set $V$ and edge set $E$, we seek partition of $V$ into two subsets with maximum cut. \n",
    "In short, we have to color every node either blue or red and we score a point whenever an edge connects two nodes with different colors. \n",
    "We then would like to find the solution with the highest score. \n",
    "Applications thereof can be found in, for example, (i) clustering for marketing purposes (segment your customer base into different clusters for targeted marketing) or (ii) portfolio optimization in finance (vertex corresponds to asset, with color referring to sell or buy decisions. \n",
    "Again, the problem in this specific graph coloring problem is that there are $2^𝑁$ possible solutions for $N$ nodes (an exponential explosion in possibilities), making it impossible to enumerate all possible candidates for relevant system sizes. \n",
    "\n",
    "__Ising Hamiltonian__: Importantly, there is a fundamental correspondence between QUBO problems and Ising problems in physics. \n",
    "Specifically, we can encode the Maximum Cut problem as a __minimization problem__ of an Ising Hamiltonian, where the (classical) cost function reads \n",
    "\n",
    "$$H_{C}=\\sum_{i>j} J_{i,j} z_{i} z_{j},$$\n",
    "\n",
    "with Ising variables $z_{i}=-1,1$ and the Ising matrix $J$ encoding the weights of the edges. \n",
    "For the sake of this discussion, we ignore potential linear terms and constant offsets (that do not affect the optimal solution $z$ anyway). \n",
    "In short, the cost Hamiltonian $H_{C}$ assigns a number to every bitstring $z=(z_{1},z_{2},\\dots)$, and we would like to find the lowest number possible. \n",
    "This will be the optimal assignment and solution to our problem. "
   ]
  },
  {
   "cell_type": "markdown",
   "metadata": {},
   "source": [
    "## BACKGROUND: THE QUANTUM APPROXIMATE OPTIMIZATION ALGORITHM"
   ]
  },
  {
   "cell_type": "markdown",
   "metadata": {},
   "source": [
    "In this notebook we will try to solve for the optimal _classical_ bitstring $z$ using the Quantum Approximate Optimization Algorithm (QAOA). \n",
    "To this end, we first promote the classical spin variables $z_{i}=-1,1$ to quantum-mechanical variables $\\sigma_{i}^{z}$ (with the Pauli matrix $\\sigma_{i}^{z}$ representing the observable corresponding to spin along the $z$ coordinate axis in three-dimensional Euclidean space $\\mathbb{R}^{3}$). \n",
    "This leads to the following quantum mechanical cost Hamiltonian encoding the optimization problem\n",
    "\n",
    "$$\\hat{H}_{C}=\\sum_{i>j} J_{i,j} \\sigma_{i}^{z} \\sigma_{j}^{z},$$\n",
    "\n",
    "which can be written as a matrix of size $(2^{N}, 2^{N})$ with diagonal elements only corresponding to all possible classical values for the cost function $H_{C}$. \n",
    "The ground state of $\\hat{H}_{C}$ corresponds to the optimal solution of the classical combinatorial problem.\n",
    "\n",
    "__QAOA ansatz__: Finding this ground state is generically hard. \n",
    "To approximate this groundstate, QAOA prepares a parametrized ansatz state (corresponding to a parameterized  gate  sequence),  whose  parameters  are iteratively updated by a classical optimizer in a closed loop. \n",
    "Specifically, QAOA involves a specific ansatz wavefunction parametrized by a parameter family $(\\vec{\\beta}, \\vec{\\gamma})$, embedded into a larger classical optimization loop to find the optimal values for these parameters. \n",
    "Approximate solutions to the problem class considered here can be found by preparing the variational state \n",
    "\n",
    "$$|\\gamma, \\beta \\rangle = U_{x}(\\beta_{p})U_{zz}(\\gamma_{p}) \\cdots U_{x}(\\beta_{1})U_{zz}(\\gamma_{1}) |s\\rangle$$\n",
    "\n",
    "with single qubit rotations induced by $U_{x}(\\beta) = \\exp(-i\\beta \\sum_{i}\\sigma_{i}^{x})$, \n",
    "and interactions described by $U_{zz}(\\gamma) = \\exp(-i\\gamma H_{C})$,\n",
    "starting initially from a product of $\\sigma^{x}$ eigenstates, i.e.,\n",
    "$|s\\rangle =|-,-,\\dots\\rangle$, with $|-\\rangle = (|0\\rangle -|1\\rangle  )/\\sqrt{2}$. \n",
    "The family of states $|\\gamma, \\beta \\rangle$ is prepared by alternating single-qubit operations $U_{x}(\\beta_{p})$ with targeted spin-spin interactions generated by the cost Hamiltonian $H_{C}$. \n",
    "The depth $p$ can be interpreted as a hyperparameter. \n",
    "For $p$ layers of QAOA blocks, there are $2p$ classical parameters to optimize over, \n",
    "since each layer $k$ is characterized by just two variational parameters, $\\gamma_{k}$ and $\\beta_{k}$. \n",
    "The preparation step outlined above is followed by a measurement in the computational basis, giving a classical string $z$, with which one can evaluate the objective function $H_{C}$ of the underlying combinatorial problem at hand. \n",
    "Taking several measurements shots one can build the expectation value $E(\\beta, \\gamma) = \\langle H_{C} \\rangle$ that we report as the objective function to the classical minimizer (while other choices could be possible as well). \n",
    "Repeating this procedure will provide an optimized string $z$, with the quality of the result improving as the depth of the quantum circuit $\\sim 2p$ is increased. \n",
    "In fact, in principle (in the absence of noise and other imperfections), QAOA can reach the global optimum of any cost function in the limit $p \\rightarrow \\infty$, approaching the adiabatic protocol. \n",
    "Thus, in theory the computational power of QAOA increases with $p$, but in practice the number of layers that can be executed without errors on NISQ devices is limited due noise and imperfections. \n",
    "\n",
    "__Optimization__: Since we are primarily interested in solving the classical optimization problem, within this routine it is sufficient to keep track of the best classical bitstring. \n",
    "This means that the wavefunction prepared by the quantum circuit $|\\gamma, \\beta \\rangle$ has to have some overlap with the optimal solution $|z^{*} \\rangle$ that we can read out as bitstring $z^{*}$ in the measurement shots. \n",
    "To this end, in principle (i.e., without any training), we could just sample from a completely uniform state that is prepared in a superposition of all computational basis states, as prepared by applying Hadamard gates to all qubits: $|\\mathrm{uniform}\\rangle = 1/\\sqrt{2^{N}}\\sum_{i}|z_{i}\\rangle$. \n",
    "In that case (assuming a single optimal solution) the success probability per shot amounts to $p_{\\mathrm{success}}=1/2^{N}$. \n",
    "We can then amplify our success chances by just taking many measurement shots. \n",
    "For large systems, however, this approach is not scalable as we would need to take an exponentially increasing number of measurements. \n",
    "That is why we train our circuits, update the parameters, with the goal to increase our success chances to find the optimal bitstring. \n",
    "We can quantify our success chances as follows. \n",
    "For a given wavefunction $|\\gamma, \\beta \\rangle$ the probability to find the optimal solution in a single shot is given by \n",
    "\n",
    "$$ p_{\\mathrm{success}}(\\gamma, \\beta) = |\\langle z^{*}|\\gamma, \\beta \\rangle |^{2},$$\n",
    "\n",
    "where $z^{*}$ denotes the optimal bitstring. \n",
    "If we perform $M$ repeated measurements, the overall probability $P$ for observing this solution at least once is given by \n",
    "\n",
    "$$ P = 1 - (1-p_{\\mathrm{success}}(\\gamma, \\beta))^{M}, $$ \n",
    "\n",
    "since the term $(1-p_{\\mathrm{success}}(\\gamma, \\beta))^{M}$ gives the probability of _not_ obtaining $z^{*}$ in repeated $M$ trials. \n",
    "Therefore, to have an overall success chance up to $\\epsilon$ close to 100%, i.e., $P \\geq 1-\\epsilon$, the number of required shots has to be \n",
    "\n",
    "$$ M \\geq \\frac{\\log(\\epsilon)}{\\log(1-p_{\\mathrm{success}}(\\gamma, \\beta))}.$$\n",
    "\n",
    "Let us illustrate this results as follows: \n",
    "If we do not know anything and just resort to a uniform superposition $|\\mathrm{uniform}\\rangle$, for a small system with $N=10$ qubits we can find the optimal solutions with 80% success probability by taking at least $\\sim 1650$ shots. \n",
    "For just $N=20$ qubits, however, this number amounts to $\\sim 1.7 \\times 10^{6}$, making this naive approach unfeasible. \n",
    "Conversely, if we can train the quantum circuit to obtain $p_{\\mathrm{success}}(\\gamma, \\beta) \\sim 0.1$, we only need $\\sim 15$ shots to have $P\\geq 80\\%$. \n",
    "Below we will track and illustrate the best classical optimum as our algorithm proceeds towards a local or (ideally) global optimum.  \n",
    "\n",
    "__Objective function__: Finally, the quality of our solution will be assessed via the approximation ratio $r^{*}$ defined as:\n",
    "\n",
    "$$ r^{*} = \\frac{\\text{Minimum energy calculated by QAOA}}{\\text{True minimum eigenvalue of the cost Hamiltonian}} $$\n"
   ]
  },
  {
   "cell_type": "markdown",
   "metadata": {},
   "source": [
    "## IMPORTS and SETUP"
   ]
  },
  {
   "cell_type": "code",
   "execution_count": 2,
   "metadata": {},
   "outputs": [],
   "source": [
    "# general imports\n",
    "import numpy as np\n",
    "from scipy.optimize import minimize\n",
    "import matplotlib.pyplot as plt\n",
    "import networkx as nx\n",
    "import seaborn as sns\n",
    "import time\n",
    "from datetime import datetime\n",
    "import pickle\n",
    "import random\n",
    "from braket.aws import AwsDevice\n",
    "# magic line for producing visualizations in notebook\n",
    "%matplotlib inline"
   ]
  },
  {
   "cell_type": "code",
   "execution_count": 3,
   "metadata": {},
   "outputs": [],
   "source": [
    "# fix random seed for reproducibility\n",
    "seed = 42\n",
    "np.random.seed(seed)\n",
    "random.seed(a=seed)\n",
    "\n",
    "# switch to trigger writing training results to disk\n",
    "store_results = False\n",
    "# switch to trigger printing results of each optimization cycle\n",
    "verbose = True"
   ]
  },
  {
   "cell_type": "code",
   "execution_count": 4,
   "metadata": {},
   "outputs": [],
   "source": [
    "# AWS imports: Import Braket SDK modules\n",
    "from braket.circuits import FreeParameter\n",
    "from braket.devices import LocalSimulator, Devices"
   ]
  },
  {
   "cell_type": "code",
   "execution_count": 5,
   "metadata": {},
   "outputs": [],
   "source": [
    "from utils_classical import *"
   ]
  },
  {
   "cell_type": "code",
   "execution_count": 6,
   "metadata": {},
   "outputs": [],
   "source": [
    "# Set up device: Local Simulator\n",
    "# device = LocalSimulator()"
   ]
  },
  {
   "cell_type": "code",
   "execution_count": 7,
   "metadata": {},
   "outputs": [],
   "source": [
    "## example code for other backends\n",
    "# from braket.aws import AwsDevice\n",
    "# from braket.devices import Devices\n",
    "## choose the on-demand simulator to run your circuit\n",
    "# device = AwsDevice(Devices.Amazon.SV1)\n",
    "## choose the Rigetti device to run your circuit\n",
    "# device = AwsDevice(Devices.Rigetti.Ankaa2)\n",
    "## choose the Ionq device to run your circuit\n",
    "device = AwsDevice(Devices.IonQ.Aria1)\n",
    "## choose the IQM device to run your circuit\n",
    "# device = AwsDevice(Devices.IQM.Garnet)"
   ]
  },
  {
   "cell_type": "markdown",
   "metadata": {},
   "source": [
    "## PROBLEM SETUP"
   ]
  },
  {
   "cell_type": "markdown",
   "metadata": {},
   "source": [
    "We consider a graph coloring problem.\n",
    "Given a graph $G=(V,E)$, made of a set vertices (also called nodes) $V$ and edges $E$, our goal is to color each node red or blue, then score a point for each node that is next to a node of different color. \n",
    "We strive to find the optimal coloring that scores the largest number of points.\n",
    "To this end, we will address the dual problem of finding the minimum energy of the corresponding Ising Hamiltonian. \n",
    "To get started, we first use the open-source ```networkx``` library to visualize the problem graph. \n",
    "Feel free to play with the parameters $n$ (for the number of nodes) and $m$ (for the number of edges) below to consider other graphs of your choice. "
   ]
  },
  {
   "cell_type": "code",
   "execution_count": null,
   "metadata": {},
   "outputs": [],
   "source": [
    "# # setup Erdos Renyi graph\n",
    "# n = 10  # number of nodes/vertices\n",
    "# m = 20  # number of edges\n",
    "\n",
    "# # define graph object\n",
    "# G = nx.gnm_random_graph(n, m, seed=seed)\n",
    "# # G = nx.erdos_renyi_graph(n=n, p=0.6, seed=seed)\n",
    "# # positions for all nodes\n",
    "# pos = nx.spring_layout(G)\n",
    "\n",
    "# # choose random weights\n",
    "# for (u, v) in G.edges():\n",
    "#     G.edges[u,v]['weight'] = np.round(random.uniform(0, 1),4)\n",
    "\n",
    "# # draw graph\n",
    "# nx.draw(G, pos, with_labels = True, font_weight = 'bold')\n",
    "# labels = nx.get_edge_attributes(G, 'weight')\n",
    "# nx.draw_networkx_edge_labels(G, pos, edge_labels = labels)\n",
    "# plt.show()\n",
    "\n",
    "edges = [(0,1,1),(2,3,1),(3,0,1), (2,0,1), (0,3,1)]\n",
    "nodes = []\n",
    "for edge in edges:\n",
    "    start_node = edge[0]\n",
    "    end_node = edge[1]\n",
    "    if (start_node not in nodes):\n",
    "        nodes.append(start_node)\n",
    "    if (end_node not in nodes):\n",
    "        nodes.append(end_node)\n",
    "num_nodes = len(nodes)\n",
    "G = nx.Graph() \n",
    "G.add_nodes_from(nodes)\n",
    "G.add_weighted_edges_from(edges)\n",
    "\n",
    "pos = nx.spring_layout(G)\n",
    "nx.draw(G, pos, with_labels = True, font_weight = 'bold')\n",
    "labels = nx.get_edge_attributes(G, 'weight')\n",
    "nx.draw_networkx_edge_labels(G, pos, edge_labels = labels)"
   ]
  },
  {
   "cell_type": "code",
   "execution_count": 9,
   "metadata": {},
   "outputs": [],
   "source": [
    "# set Ising matrix \n",
    "Jfull = nx.to_numpy_array(G)\n",
    "\n",
    "# get off-diagonal upper triangular matrix\n",
    "J = np.triu(Jfull, k=1).astype(np.float64)"
   ]
  },
  {
   "cell_type": "code",
   "execution_count": null,
   "metadata": {},
   "outputs": [],
   "source": [
    "# plot Ising matrix\n",
    "plt.figure(1, figsize=[7, 5])\n",
    "sns.heatmap(J, annot=True,  linewidths=.5, cmap=\"YlGnBu\", annot_kws = {'alpha': 1})\n",
    "plt.title('Ising distance matrix');\n",
    "plt.tight_layout();"
   ]
  },
  {
   "cell_type": "markdown",
   "metadata": {},
   "source": [
    "## IMPLEMENTATION OF QAOA WITH BRAKET "
   ]
  },
  {
   "cell_type": "markdown",
   "metadata": {},
   "source": [
    "In this section we load a set of useful helper functions that we will explain in detail below. \n",
    "Specifically in ```utils_qaoa.py``` we provide simple building blocks for the core modules of our QAOA algorithm, that is (i) a function called ```circuit``` that defines the parametrized ansatz, (ii) a function called ```objective_function``` that takes a list of variational parameters as input, and returns the cost associated with those parameters and finally (iii) a function ```train``` to run the entire QAOA algorithm for given ansatz. \n",
    "This way we can solve the problem in a clean and modular approach.\n",
    "Here, we show in markdown the definition of the parametrized QAOA circuit. \n",
    "For more details, see the corresponding file ```utils_qaoa.py```. "
   ]
  },
  {
   "cell_type": "code",
   "execution_count": null,
   "metadata": {},
   "outputs": [],
   "source": [
    "from utils_qaoa import *"
   ]
  },
  {
   "cell_type": "markdown",
   "metadata": {},
   "source": [
    "```python\n",
    "# function to implement evolution with driver Hamiltonian\n",
    "def driver(beta, n_qubits):\n",
    "    \"\"\"\n",
    "    Returns circuit for driver Hamiltonian U(Hb, beta)\n",
    "    \"\"\"\n",
    "    # instantiate circuit object\n",
    "    circ = Circuit()\n",
    "    \n",
    "    for qubit in range(n_qubits):\n",
    "        gate = Circuit().rx(qubit, 2*beta)\n",
    "        circ.add(gate)\n",
    "    \n",
    "    return circ\n",
    "\n",
    "\n",
    "# helper function for evolution with cost Hamiltonian\n",
    "def cost_circuit(gamma, n_qubits, ising):\n",
    "    \"\"\"\n",
    "    returns circuit for evolution with cost Hamiltonian\n",
    "    \"\"\"\n",
    "    # instantiate circuit object\n",
    "    circ = Circuit()\n",
    "\n",
    "    # get all non-zero entries (edges) from Ising matrix \n",
    "    idx = ising.nonzero()\n",
    "    edges = list(zip(idx[0], idx[1]))\n",
    "    \n",
    "    for qubit_pair in edges:\n",
    "        # get interaction strength\n",
    "        int_strength = ising[qubit_pair[0], qubit_pair[1]]\n",
    "        # for Rigetti we decompose ZZ using CNOT gates\n",
    "        if 'Aspen' in device.name:\n",
    "            gate = ZZgate(qubit_pair[0], qubit_pair[1], gamma*int_strength)\n",
    "            circ.add(gate)\n",
    "        # classical simulators and IonQ support ZZ gate\n",
    "        else:\n",
    "            gate = Circuit().zz(qubit_pair[0], qubit_pair[1], angle=2*gamma*int_strength)\n",
    "            circ.add(gate)\n",
    "\n",
    "    return circ\n",
    "\n",
    "\n",
    "# function to build the QAOA circuit with depth p\n",
    "def circuit(params, n_qubits, ising):\n",
    "    \"\"\"\n",
    "    function to return full QAOA circuit\n",
    "    \"\"\"\n",
    "\n",
    "    # initialize qaoa circuit with first Hadamard layer: for minimization start in |->\n",
    "    circ = Circuit()\n",
    "    X_on_all = Circuit().x(range(0, n_qubits))\n",
    "    circ.add(X_on_all)\n",
    "    H_on_all = Circuit().h(range(0, n_qubits))\n",
    "    circ.add(H_on_all)\n",
    "\n",
    "    # setup two parameter families\n",
    "    circuit_length = int(len(params) / 2)\n",
    "    gammas = params[:circuit_length]\n",
    "    betas = params[circuit_length:]\n",
    "\n",
    "    # add circuit layers\n",
    "    for mm in range(circuit_length):\n",
    "        circ.add(cost_circuit(gammas[mm], n_qubits, ising))\n",
    "        circ.add(driver(betas[mm], n_qubits))\n",
    "\n",
    "    return circ\n",
    "\n",
    "```"
   ]
  },
  {
   "cell_type": "markdown",
   "metadata": {},
   "source": [
    "## VISUALIZATION OF THE QAOA ANSATZ"
   ]
  },
  {
   "cell_type": "markdown",
   "metadata": {},
   "source": [
    "Let us first visualize our parametrized QAOA ansatz for a small number of qubits and fixed (i.e., not optimized) parameters. \n",
    "For convenience, the parameters are displayed in the circuit (up to a factor of $2$ we have added in our ansatz definition). \n",
    "First we prepare the state $|0,0,\\dots\\rangle \\rightarrow |-,-,\\dots\\rangle$, with the superposition state $|-\\rangle = (|0\\rangle -|1\\rangle  )/\\sqrt{2}$. \n",
    "Following the discussion above, we choose to start out with this state as it is the minimal energy state of the simple driver Hamiltonian $H_{B}$. \n",
    "This state preparation is followed by one layer of the QAOA ansatz, consisting of evolution with the cost Hamiltonian by $\\exp(-i\\gamma H_{C})= \\prod_{j,l}\\exp(-i\\gamma J_{j,l}\\sigma_{j}^{z}\\sigma_{l}^{z}) = \\prod_{j,l} ZZ_{j,l}(2\\gamma J_{j,l})$, followed by the single-qubit driving term, $\\exp(-i\\beta H_{B})= \\prod_{j} \\exp(-i\\beta \\sigma_{j}^{x})= \\prod_{j} R_{j}^{(x)}(2\\beta)$.\n",
    "Note that the circuit definition depends on the ```device``` object, as the implementation of the ZZ gate depends on the specific gate set supported by the device.  "
   ]
  },
  {
   "cell_type": "code",
   "execution_count": null,
   "metadata": {},
   "outputs": [],
   "source": [
    "# create parameters\n",
    "gammas = [FreeParameter('gamma')]\n",
    "betas = [FreeParameter('beta')]\n",
    "params = gammas + betas\n",
    "\n",
    "# for demonstration purposes use small Ising matrix\n",
    "J_sub = np.array([[0, 1], [0, 0]])\n",
    "N = J_sub.shape[0]\n",
    "\n",
    "# get circuit ansatz\n",
    "my_simple_circuit = circuit(params, device, N, J_sub)\n",
    "\n",
    "# print test ansatz circuit\n",
    "print('Printing test circuit:')\n",
    "print(my_simple_circuit)"
   ]
  },
  {
   "cell_type": "markdown",
   "metadata": {},
   "source": [
    "We see that our ansatz produces the expected result for shallow QAOA with $p=1$. \n",
    "We run one more sanity check for $p=2$ below. "
   ]
  },
  {
   "cell_type": "code",
   "execution_count": null,
   "metadata": {},
   "outputs": [],
   "source": [
    "# set number of qubits and fix parameters\n",
    "gammas = [FreeParameter('gamma_1'), FreeParameter('gamma_2')]\n",
    "betas = [FreeParameter('beta_1'), FreeParameter('beta_2')]\n",
    "params = gammas + betas\n",
    "\n",
    "# for demonstration purposes use small Ising matrix\n",
    "J_sub = np.array([[0, 1], [0, 0]])\n",
    "N = J_sub.shape[0]\n",
    "\n",
    "# get circuit ansatz\n",
    "my_simple_circuit = circuit(params, device, N, J_sub)\n",
    "\n",
    "# print test ansatz circuit\n",
    "print('Printing test circuit:')\n",
    "print(my_simple_circuit)"
   ]
  },
  {
   "cell_type": "markdown",
   "metadata": {},
   "source": [
    "## QAOA SIMULATION ON LOCAL SCHROEDINGER SIMULATOR"
   ]
  },
  {
   "cell_type": "markdown",
   "metadata": {},
   "source": [
    "We are now all set to run some QAOA simulation experiments. \n",
    "First of all, you can play and experiment yourself with the number of qubits $N$. \n",
    "Secondly, you may also experiment with the classical optimizer. \n",
    "Since we are using an off-the-shelf, black-box ```scipy``` minimizer (as described in more detail [here](https://docs.scipy.org/doc/scipy/reference/generated/scipy.optimize.minimize.html)), you can simply swap between different optimizers by setting the ```OPT_METHOD``` parameter below. \n",
    "Some popular options readily available within this library include *Nelder-Mead*, *BFGS* and *COBYLA*. \n",
    "As a precautionary warning, note that the classical optimization step may get stuck in a local optimum, rather than finding the global minimum for our parametrized QAOA ansatz wavefunction. \n",
    "To address this issue, we may run several optimization loops, starting from different random parameter seeds. \n",
    "While this brute-force approach does not provide any guarantee to find the global optimum, from a pragmatic point of view at least it does increase the odds of finding an acceptable solution, at the expense of potentially having to run many more circuits on the simulator or QPU, respectively.\n",
    "Finally, the optimization loop may require the execution of many individual quantum tasks (i.e., single circuit executions for fixed parameters). \n",
    "For example, when choosing the classical [Powell](https://docs.scipy.org/doc/scipy/reference/optimize.minimize-powell.html#optimize-minimize-powell) optimizer for the graph considered here, we find $\\sim 270$ cycles in the for loop. \n",
    "For the local simulator device chosen here by default this is not an issue, but if you run this algorithm on any QPU you may want to adjust the ```maxfev``` parameter to control the maximum allowed number function evaluations (compare comment in the next code block below)."
   ]
  },
  {
   "cell_type": "code",
   "execution_count": 14,
   "metadata": {},
   "outputs": [],
   "source": [
    "##################################################################################\n",
    "# set up hyperparameters\n",
    "##################################################################################\n",
    "\n",
    "# User-defined hypers\n",
    "DEPTH = 12  # circuit depth for QAOA\n",
    "SHOTS = 2000  # number measurements to make on circuit\n",
    "OPT_METHOD = 'COBYLA'  # SLSQP, COBYLA, Nelder-Mead, BFGS, Powell, ...\n",
    "\n",
    "# set up the problem\n",
    "n_qubits = J.shape[0]\n",
    "\n",
    "# initialize reference solution (simple guess)\n",
    "bitstring_init = -1 * np.ones([n_qubits])\n",
    "energy_init = np.dot(bitstring_init, np.dot(J, bitstring_init))\n",
    "\n",
    "# set tracker to keep track of results\n",
    "tracker = {\n",
    "    'count': 1,                           # Elapsed optimization steps\n",
    "    'optimal_energy': energy_init,        # Global optimal energy\n",
    "    'opt_energies': [],                   # Optimal energy at each step\n",
    "    'global_energies': [],                # Global optimal energy at each step\n",
    "    'optimal_bitstring': bitstring_init,  # Global optimal bitstring\n",
    "    'opt_bitstrings': [],                 # Optimal bitstring at each step\n",
    "    'costs': [],                          # Cost (average energy) at each step\n",
    "    'res': None,                          # Quantum result object\n",
    "    'params': [],                         # Track parameters\n",
    "    'ratio': [],                          # The benchmarking metric\n",
    "    'ratio_min': [],                      # Best possible solution during measurement\n",
    "    'ratio_shot': [],                     # The ratio for the optimal solution over all measurements\n",
    "    'prob': []                            # Record prob of measurement\n",
    "}\n",
    "\n",
    "# set options for classical optimization\n",
    "options = {'disp': True, 'maxiter': 10}"
   ]
  },
  {
   "cell_type": "code",
   "execution_count": null,
   "metadata": {
    "scrolled": true
   },
   "outputs": [],
   "source": [
    "##################################################################################\n",
    "# run QAOA optimization on graph \n",
    "##################################################################################\n",
    "\n",
    "print('Circuit depth hyperparameter:', DEPTH)\n",
    "print('Problem size:', n_qubits)\n",
    "\n",
    "# kick off training\n",
    "start = time.time()\n",
    "result_energy, result_angle, tracker = train(\n",
    "    device = device, options=options, p=DEPTH, ising=J, n_qubits=n_qubits, n_shots=SHOTS, \n",
    "    opt_method=OPT_METHOD, tracker=tracker, verbose=verbose, G=G)\n",
    "end = time.time()\n",
    "\n",
    "# print execution time\n",
    "print('Code execution time [sec]:', end - start)\n",
    "\n",
    "# print optimized results\n",
    "print('Optimal energy:', tracker['optimal_energy'])\n",
    "print('Optimal classical bitstring:', tracker['optimal_bitstring'])\n",
    "\n",
    "##################################################################################\n",
    "# Compute output and dump to pickle\n",
    "##################################################################################\n",
    "\n",
    "if store_results:\n",
    "    out = {'p': DEPTH, 'N': n_qubits,\n",
    "           'ENERGY_OPTIMAL': tracker['optimal_energy'], 'BITSTRING': tracker['optimal_bitstring'],\n",
    "           'result_energy': result_energy, 'result_angle': result_angle}\n",
    "\n",
    "    # store results: dump output to pickle with timestamp in filename\n",
    "    time_now = datetime.strftime(datetime.now(), '%Y%m%d%H%M%S')\n",
    "    results_file = 'results-'+time_now+'.pkl'\n",
    "    print(f'Writing results to file: {results_file}')\n",
    "    pickle.dump(out, open(results_file, \"wb\"))\n",
    "    \n",
    "    # you can load results as follows\n",
    "    # out = pickle.load(open(results_file, \"rb\"))"
   ]
  },
  {
   "cell_type": "code",
   "execution_count": null,
   "metadata": {},
   "outputs": [],
   "source": [
    "import pandas as pd\n",
    "\n",
    "debias_off = pd.DataFrame.from_dict(tracker['prob'], orient=\"index\").rename(columns={0: \"debias off\"})\n"
   ]
  },
  {
   "cell_type": "code",
   "execution_count": null,
   "metadata": {},
   "outputs": [],
   "source": [
    "sharpen_on = pd.DataFrame.from_dict(tracker['prob'], orient=\"index\").rename(\n",
    "    columns={0: \"debias on, sharpened\"}\n",
    ")\n",
    "df = debias_off.join(sharpen_on)\n",
    "df2 = df.sort_values(by=\"debias off\").tail(10)\n",
    "df2"
   ]
  },
  {
   "cell_type": "markdown",
   "metadata": {},
   "source": [
    "## POSTPROCESSING AND COMPARISON OF OUR QAOA RESULTS WITH CLASSICAL RESULTS"
   ]
  },
  {
   "cell_type": "markdown",
   "metadata": {},
   "source": [
    "In this section we visualize the results we have found with QAOA. \n",
    "Specifically, we display the results found for the variational parameters $\\beta$ and $\\gamma$ for every layer in our QAOA ansatz. \n",
    "Moreover, we show the solution to our graph coloring problem with every node colored either red or blue (recall that there are just two colors since we solve a _binary_ optimization problem).\n",
    "Finally, we compare these results to results found classically. \n",
    "Ideally, the two results should agree with each other but this is not necessarily the case for several reasons: \n",
    "First of all, for the original small toy problem we have set up there are several degenerate classical solutions with the same optimal quality. \n",
    "The classical and the QAOA approach may find solutions with different coloring configurations but the same quality (that is energy). \n",
    "Secondly, with QAOA we are not guaranteed to find the optimal solutions. \n",
    "Specifically, the deeper the circuit, the harder the classical optimization problem, and we may get stuck in a local rather than global optimum. \n",
    "One brute-force approach is then to just re-run QAOA with different random initial seeds for the parameters $(\\beta, \\gamma)$."
   ]
  },
  {
   "cell_type": "code",
   "execution_count": 17,
   "metadata": {},
   "outputs": [],
   "source": [
    "# visualize the optimization process\n",
    "cycles = np.arange(1, tracker['count'])"
   ]
  },
  {
   "cell_type": "code",
   "execution_count": 18,
   "metadata": {},
   "outputs": [],
   "source": [
    "# # get results for variational angles\n",
    "# gamma = result_angle[:DEPTH]\n",
    "# beta = result_angle[DEPTH:]\n",
    "# # get array [1, 2, ..., p]\n",
    "# pa = np.arange(1, DEPTH + 1)\n",
    "\n",
    "# plt.figure(2)\n",
    "# plt.plot(pa, gamma / np.pi, '-o', label='gamma')\n",
    "# plt.plot(pa, beta / np.pi, '-s', label='beta')\n",
    "# plt.xlabel('circuit depth (layer) p')\n",
    "# plt.ylabel('optimal angles [pi]')\n",
    "# plt.xticks(pa)\n",
    "# plt.legend(title='Variational QAOA angles:', loc='upper left')\n",
    "# plt.show()"
   ]
  },
  {
   "cell_type": "code",
   "execution_count": null,
   "metadata": {
    "scrolled": true
   },
   "outputs": [],
   "source": [
    "# visualize solution\n",
    "colorlist = tracker['optimal_bitstring']\n",
    "print('Optimal cut found with QAOA:', tracker['optimal_bitstring'])\n",
    "colorlist[colorlist == -1] = 0\n",
    "# plot_colored_graph(J, N, colorlist, pos)\n",
    "plot_colored_graph_simple(G, colorlist, pos)\n",
    "print('Minimal energy found with QAOA:', tracker['optimal_energy'])"
   ]
  },
  {
   "cell_type": "code",
   "execution_count": null,
   "metadata": {},
   "outputs": [],
   "source": [
    "plt.xlabel('optimization cycle')\n",
    "plt.ylabel('best minimum energy at each step')\n",
    "plt.plot(cycles, tracker['ratio'], label='expected')\n",
    "plt.plot(cycles, tracker['ratio_min'], label='optimal')\n",
    "plt.legend()\n",
    "plt.show()"
   ]
  },
  {
   "cell_type": "code",
   "execution_count": null,
   "metadata": {},
   "outputs": [],
   "source": [
    "plt.xlabel('optimization cycle')\n",
    "plt.ylabel('percentage for the optimal solution')\n",
    "plt.plot(cycles, tracker['ratio_shot'])\n",
    "plt.show()"
   ]
  },
  {
   "cell_type": "code",
   "execution_count": 22,
   "metadata": {},
   "outputs": [],
   "source": [
    "# check true solutions bitstring\n",
    "# Jfull = nx.to_numpy_array(G)\n",
    "\n",
    "# # get off-diagonal upper triangular matrix\n",
    "# J = np.triu(Jfull, k=1).astype(np.float64)\n",
    "# sol = solve_QAOA(G, J)\n",
    "# print(sol)"
   ]
  },
  {
   "cell_type": "markdown",
   "metadata": {},
   "source": [
    "# Iteration through different Graphs with different number of nodes"
   ]
  },
  {
   "cell_type": "code",
   "execution_count": null,
   "metadata": {},
   "outputs": [],
   "source": [
    "from utils_qaoa import benchmark\n",
    "\n",
    "benchmark_nodes = benchmark(nodes_list=[4,6,8,10], depth=[4,8,12], shots=1000)"
   ]
  },
  {
   "cell_type": "code",
   "execution_count": null,
   "metadata": {},
   "outputs": [],
   "source": [
    "# visualize the optimization process\n",
    "import numpy as np\n",
    "import matplotlib.pyplot as plt\n",
    "\n",
    "costs4_4 = benchmark_nodes['node4']['depth4']['tracker']['costs']\n",
    "costs4_8 = benchmark_nodes['node4']['depth8']['tracker']['costs']\n",
    "costs4_12 = benchmark_nodes['node4']['depth12']['tracker']['costs']\n",
    "\n",
    "plt.xlabel('optimization cycle')\n",
    "plt.ylabel('best minimum energy at each step')\n",
    "plt.plot(np.arange(1,benchmark_nodes['node4']['depth4']['tracker']['count']), costs4_4, label=' 4 node 4 depth')\n",
    "plt.plot(np.arange(1,benchmark_nodes['node4']['depth8']['tracker']['count']), costs4_8, label=' 4 node 8 depth')\n",
    "plt.plot(np.arange(1,benchmark_nodes['node4']['depth12']['tracker']['count']), costs4_12, label=' 4 node 12 depth')\n",
    "\n",
    "plt.legend()\n",
    "plt.show()"
   ]
  },
  {
   "cell_type": "code",
   "execution_count": null,
   "metadata": {},
   "outputs": [],
   "source": [
    "costs6_4 = benchmark_nodes['node6']['depth4']['tracker']['costs']\n",
    "costs6_8 = benchmark_nodes['node6']['depth8']['tracker']['costs']\n",
    "costs6_12 = benchmark_nodes['node6']['depth12']['tracker']['costs']\n",
    "\n",
    "plt.xlabel('optimization cycle')\n",
    "plt.ylabel('best minimum energy at each step')\n",
    "plt.plot(np.arange(1,benchmark_nodes['node6']['depth4']['tracker']['count']), costs6_4, label=' 6 node 4 depth')\n",
    "plt.plot(np.arange(1,benchmark_nodes['node6']['depth8']['tracker']['count']), costs6_8, label=' 6 node 8 depth')\n",
    "plt.plot(np.arange(1,benchmark_nodes['node6']['depth12']['tracker']['count']), costs6_12, label=' 6 node 12 depth')\n",
    "\n",
    "plt.legend()\n",
    "plt.show()"
   ]
  },
  {
   "cell_type": "code",
   "execution_count": null,
   "metadata": {},
   "outputs": [],
   "source": [
    "costs8_4 = benchmark_nodes['node8']['depth4']['tracker']['costs']\n",
    "costs8_8 = benchmark_nodes['node8']['depth8']['tracker']['costs']\n",
    "costs8_12 = benchmark_nodes['node8']['depth12']['tracker']['costs']\n",
    "\n",
    "plt.xlabel('optimization cycle')\n",
    "plt.ylabel('best minimum energy at each step')\n",
    "plt.plot(np.arange(1,benchmark_nodes['node8']['depth4']['tracker']['count']), costs4_4, label=' 8 node 4 depth')\n",
    "plt.plot(np.arange(1,benchmark_nodes['node8']['depth8']['tracker']['count']), costs4_8, label=' 8 node 8 depth')\n",
    "plt.plot(np.arange(1,benchmark_nodes['node8']['depth12']['tracker']['count']), costs4_12, label=' 8 node 12 depth')\n",
    "\n",
    "plt.legend()\n",
    "plt.show()"
   ]
  },
  {
   "cell_type": "code",
   "execution_count": null,
   "metadata": {},
   "outputs": [],
   "source": [
    "costs10_4 = benchmark_nodes['node10']['depth4']['tracker']['costs']\n",
    "costs10_8 = benchmark_nodes['node10']['depth8']['tracker']['costs']\n",
    "costs10_12 = benchmark_nodes['node10']['depth12']['tracker']['costs']\n",
    "\n",
    "plt.xlabel('optimization cycle')\n",
    "plt.ylabel('best minimum energy at each step')\n",
    "plt.plot(np.arange(1,benchmark_nodes['node10']['depth4']['tracker']['count']), costs10_4, label=' 10 node 4 depth')\n",
    "plt.plot(np.arange(1,benchmark_nodes['node10']['depth8']['tracker']['count']), costs10_8, label=' 10 node 8 depth')\n",
    "plt.plot(np.arange(1,benchmark_nodes['node10']['depth12']['tracker']['count']), costs10_12, label=' 10 node 12 depth')\n",
    "\n",
    "plt.legend()\n",
    "plt.show()"
   ]
  },
  {
   "cell_type": "code",
   "execution_count": null,
   "metadata": {},
   "outputs": [],
   "source": [
    "from utils_qaoa import benchmark\n",
    "\n",
    "benchmark_with_opt = benchmark(nodes_list=[4,6,8,10], depth=range(4,13), shots=1000, optimization=True)"
   ]
  },
  {
   "cell_type": "code",
   "execution_count": null,
   "metadata": {},
   "outputs": [],
   "source": [
    "import numpy as np\n",
    "import matplotlib.pyplot as plt\n",
    "\n",
    "costs4_4 = benchmark_with_opt['node4']['depth4']['tracker']['costs']\n",
    "costs4_8 = benchmark_with_opt['node4']['depth8']['tracker']['costs']\n",
    "costs4_12 = benchmark_with_opt['node4']['depth12']['tracker']['costs']\n",
    "\n",
    "plt.xlabel('optimization cycle')\n",
    "plt.ylabel('best minimum energy at each step')\n",
    "plt.plot(np.arange(1,benchmark_with_opt['node4']['depth4']['tracker']['count']), costs4_4, label=' 4 node 4 depth')\n",
    "plt.plot(np.arange(1,benchmark_with_opt['node4']['depth8']['tracker']['count']), costs4_8, label=' 4 node 8 depth')\n",
    "plt.plot(np.arange(1,benchmark_with_opt['node4']['depth12']['tracker']['count']), costs4_12, label=' 4 node 12 depth')\n",
    "\n",
    "plt.legend()\n",
    "plt.show()"
   ]
  },
  {
   "cell_type": "code",
   "execution_count": null,
   "metadata": {},
   "outputs": [],
   "source": [
    "costs6_4 = benchmark_with_opt['node6']['depth4']['tracker']['costs']\n",
    "costs6_8 = benchmark_with_opt['node6']['depth8']['tracker']['costs']\n",
    "costs6_12 = benchmark_with_opt['node6']['depth12']['tracker']['costs']\n",
    "\n",
    "plt.xlabel('optimization cycle')\n",
    "plt.ylabel('best minimum energy at each step')\n",
    "plt.plot(np.arange(1,benchmark_with_opt['node6']['depth4']['tracker']['count']), costs6_4, label=' 6 node 4 depth')\n",
    "plt.plot(np.arange(1,benchmark_with_opt['node6']['depth8']['tracker']['count']), costs6_8, label=' 6 node 8 depth')\n",
    "plt.plot(np.arange(1,benchmark_with_opt['node6']['depth12']['tracker']['count']), costs6_12, label=' 6 node 12 depth')\n",
    "\n",
    "plt.legend()\n",
    "plt.show()"
   ]
  },
  {
   "cell_type": "code",
   "execution_count": null,
   "metadata": {},
   "outputs": [],
   "source": [
    "costs8_4 = benchmark_with_opt['node8']['depth4']['tracker']['costs']\n",
    "costs8_8 = benchmark_with_opt['node8']['depth8']['tracker']['costs']\n",
    "costs8_12 = benchmark_with_opt['node8']['depth12']['tracker']['costs']\n",
    "\n",
    "plt.xlabel('optimization cycle')\n",
    "plt.ylabel('best minimum energy at each step')\n",
    "plt.plot(np.arange(1,benchmark_with_opt['node8']['depth4']['tracker']['count']), costs4_4, label=' 8 node 4 depth')\n",
    "plt.plot(np.arange(1,benchmark_with_opt['node8']['depth8']['tracker']['count']), costs4_8, label=' 8 node 8 depth')\n",
    "plt.plot(np.arange(1,benchmark_with_opt['node8']['depth12']['tracker']['count']), costs4_12, label=' 8 node 12 depth')\n",
    "\n",
    "plt.legend()\n",
    "plt.show()"
   ]
  },
  {
   "cell_type": "code",
   "execution_count": null,
   "metadata": {},
   "outputs": [],
   "source": [
    "costs10_4 = benchmark_with_opt['node10']['depth4']['tracker']['costs']\n",
    "costs10_8 = benchmark_with_opt['node10']['depth8']['tracker']['costs']\n",
    "costs10_12 = benchmark_with_opt['node10']['depth12']['tracker']['costs']\n",
    "\n",
    "plt.xlabel('optimization cycle')\n",
    "plt.ylabel('best minimum energy at each step')\n",
    "plt.plot(np.arange(1,benchmark_with_opt['node10']['depth4']['tracker']['count']), costs10_4, label=' 10 node 4 depth')\n",
    "plt.plot(np.arange(1,benchmark_with_opt['node10']['depth8']['tracker']['count']), costs10_8, label=' 10 node 8 depth')\n",
    "plt.plot(np.arange(1,benchmark_with_opt['node10']['depth12']['tracker']['count']), costs10_12, label=' 10 node 12 depth')\n",
    "\n",
    "plt.legend()\n",
    "plt.show()"
   ]
  },
  {
   "cell_type": "markdown",
   "metadata": {},
   "source": [
    "## SUMMARY"
   ]
  }
 ],
 "metadata": {
  "kernelspec": {
   "display_name": "Python 3 (ipykernel)",
   "language": "python",
   "name": "python3"
  },
  "language_info": {
   "codemirror_mode": {
    "name": "ipython",
    "version": 3
   },
   "file_extension": ".py",
   "mimetype": "text/x-python",
   "name": "python",
   "nbconvert_exporter": "python",
   "pygments_lexer": "ipython3",
   "version": "3.12.5"
  },
  "vscode": {
   "interpreter": {
    "hash": "590fab68195cf107911461461f81d5c472d3d6127f579badfcfad30f03e5cab2"
   }
  }
 },
 "nbformat": 4,
 "nbformat_minor": 4
}
